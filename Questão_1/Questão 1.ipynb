{
 "cells": [
  {
   "cell_type": "markdown",
   "id": "f5b28d45",
   "metadata": {},
   "source": [
    "## Questão 1"
   ]
  },
  {
   "cell_type": "markdown",
   "id": "ab4da3e2",
   "metadata": {},
   "source": [
    "Esta etapa se baseia na análise de algumas variáveis e na resposta de algumas questões de negócio que foram solicitadas."
   ]
  },
  {
   "cell_type": "code",
   "execution_count": 1,
   "id": "da1162ca",
   "metadata": {},
   "outputs": [],
   "source": [
    "## Importando as bibliotecas necessárias\n",
    "\n",
    "import pandas as pd\n",
    "import numpy as np\n",
    "import datetime as dt\n",
    "import matplotlib.pyplot as plt\n",
    "import seaborn as sns"
   ]
  },
  {
   "cell_type": "code",
   "execution_count": 2,
   "id": "6ab27f2f",
   "metadata": {},
   "outputs": [],
   "source": [
    "base1 = pd.read_csv('../Questão 1 - Base.txt', sep=\"\\t\")"
   ]
  },
  {
   "cell_type": "code",
   "execution_count": 3,
   "id": "8a27b429",
   "metadata": {},
   "outputs": [
    {
     "name": "stdout",
     "output_type": "stream",
     "text": [
      "False\n",
      "False\n"
     ]
    }
   ],
   "source": [
    "# Verificando se há valores faltantes\n",
    "\n",
    "print(base1.isnull().values.any())\n",
    "print(base1.isna().values.any())"
   ]
  },
  {
   "cell_type": "code",
   "execution_count": 4,
   "id": "61aae1c4",
   "metadata": {},
   "outputs": [
    {
     "data": {
      "text/html": [
       "<div>\n",
       "<style scoped>\n",
       "    .dataframe tbody tr th:only-of-type {\n",
       "        vertical-align: middle;\n",
       "    }\n",
       "\n",
       "    .dataframe tbody tr th {\n",
       "        vertical-align: top;\n",
       "    }\n",
       "\n",
       "    .dataframe thead th {\n",
       "        text-align: right;\n",
       "    }\n",
       "</style>\n",
       "<table border=\"1\" class=\"dataframe\">\n",
       "  <thead>\n",
       "    <tr style=\"text-align: right;\">\n",
       "      <th></th>\n",
       "      <th>ID_CONTA</th>\n",
       "      <th>DT_VENCIMENTO</th>\n",
       "      <th>DS_ROLAGEM</th>\n",
       "      <th>VL_FATURA</th>\n",
       "    </tr>\n",
       "  </thead>\n",
       "  <tbody>\n",
       "    <tr>\n",
       "      <th>0</th>\n",
       "      <td>402467</td>\n",
       "      <td>2019-01-01</td>\n",
       "      <td>FX0</td>\n",
       "      <td>210.00</td>\n",
       "    </tr>\n",
       "    <tr>\n",
       "      <th>1</th>\n",
       "      <td>403001</td>\n",
       "      <td>2019-01-01</td>\n",
       "      <td>FX1</td>\n",
       "      <td>1097.18</td>\n",
       "    </tr>\n",
       "    <tr>\n",
       "      <th>2</th>\n",
       "      <td>403499</td>\n",
       "      <td>2019-01-01</td>\n",
       "      <td>FX0</td>\n",
       "      <td>1209.88</td>\n",
       "    </tr>\n",
       "    <tr>\n",
       "      <th>3</th>\n",
       "      <td>403670</td>\n",
       "      <td>2019-01-01</td>\n",
       "      <td>FX0</td>\n",
       "      <td>667.40</td>\n",
       "    </tr>\n",
       "    <tr>\n",
       "      <th>4</th>\n",
       "      <td>404183</td>\n",
       "      <td>2019-01-01</td>\n",
       "      <td>FX1</td>\n",
       "      <td>1239.52</td>\n",
       "    </tr>\n",
       "  </tbody>\n",
       "</table>\n",
       "</div>"
      ],
      "text/plain": [
       "   ID_CONTA DT_VENCIMENTO DS_ROLAGEM  VL_FATURA\n",
       "0    402467    2019-01-01        FX0     210.00\n",
       "1    403001    2019-01-01        FX1    1097.18\n",
       "2    403499    2019-01-01        FX0    1209.88\n",
       "3    403670    2019-01-01        FX0     667.40\n",
       "4    404183    2019-01-01        FX1    1239.52"
      ]
     },
     "execution_count": 4,
     "metadata": {},
     "output_type": "execute_result"
    }
   ],
   "source": [
    "base1.head()"
   ]
  },
  {
   "cell_type": "markdown",
   "id": "931d4ad7",
   "metadata": {},
   "source": [
    "A base é composta por 4 colunas relacionadas a faturas de clientes, e possui mais de 2 milhões de linhas."
   ]
  },
  {
   "cell_type": "markdown",
   "id": "dca85410",
   "metadata": {},
   "source": [
    "### 1.1 Qual o percentual de faturas emitidas por mês no qual os clientes não pagaram a fatura anterior? "
   ]
  },
  {
   "cell_type": "markdown",
   "id": "4110bf9d",
   "metadata": {},
   "source": [
    "Primeiro, será necessário criar uma coluna de mês para facilitar os cálculos. Depois, criar uma nova tabela com a quantidade de faturas por mês.\n"
   ]
  },
  {
   "cell_type": "code",
   "execution_count": 5,
   "id": "39575ed2",
   "metadata": {},
   "outputs": [],
   "source": [
    "base1['DATA']= pd.to_datetime(base1['DT_VENCIMENTO'])\n",
    "base1['DT_MES']= base1['DATA'].dt.month\n",
    "\n",
    "# Filtrando apenas quem não pagou a fatura do mês anterior\n",
    "\n",
    "base1_FX1 = base1[base1.DS_ROLAGEM == 'FX1']\n",
    "base1_FX1_gr = base1_FX1.groupby(['DT_MES']).count()\n",
    "base1_FX1_gr = base1_FX1_gr.add_suffix('').reset_index()\n",
    "base1_FX1_gr = base1_FX1_gr[['DT_MES','ID_CONTA']]\n",
    "\n",
    "base1_FX1_gr.rename(columns={'ID_CONTA': 'QTD_FATURA_FX1'}, inplace = True)"
   ]
  },
  {
   "cell_type": "code",
   "execution_count": 6,
   "id": "f09acdf3",
   "metadata": {},
   "outputs": [],
   "source": [
    "# Agrupando a base inicial\n",
    "base1_gr = base1.groupby(['DT_MES']).count()\n",
    "base1_gr = base1_gr.add_suffix('').reset_index()\n",
    "base1_gr = base1_gr[['DT_MES','ID_CONTA']]\n",
    "\n",
    "base1_gr.rename(columns={'ID_CONTA': 'QTD_FATURA_TOTAL'}, inplace = True)\n",
    "\n",
    "base1_resumo = pd.merge(base1_FX1_gr, base1_gr, how='left', on=['DT_MES'])\n",
    "base1_resumo['PERCENT'] = round(base1_resumo.QTD_FATURA_FX1/base1_resumo.QTD_FATURA_TOTAL,2)*100"
   ]
  },
  {
   "cell_type": "code",
   "execution_count": 7,
   "id": "94a9ba9a",
   "metadata": {},
   "outputs": [
    {
     "data": {
      "text/html": [
       "<div>\n",
       "<style scoped>\n",
       "    .dataframe tbody tr th:only-of-type {\n",
       "        vertical-align: middle;\n",
       "    }\n",
       "\n",
       "    .dataframe tbody tr th {\n",
       "        vertical-align: top;\n",
       "    }\n",
       "\n",
       "    .dataframe thead th {\n",
       "        text-align: right;\n",
       "    }\n",
       "</style>\n",
       "<table border=\"1\" class=\"dataframe\">\n",
       "  <thead>\n",
       "    <tr style=\"text-align: right;\">\n",
       "      <th></th>\n",
       "      <th>DT_MES</th>\n",
       "      <th>QTD_FATURA_FX1</th>\n",
       "      <th>QTD_FATURA_TOTAL</th>\n",
       "      <th>PERCENT</th>\n",
       "    </tr>\n",
       "  </thead>\n",
       "  <tbody>\n",
       "    <tr>\n",
       "      <th>0</th>\n",
       "      <td>1</td>\n",
       "      <td>22835</td>\n",
       "      <td>313383</td>\n",
       "      <td>7.0</td>\n",
       "    </tr>\n",
       "    <tr>\n",
       "      <th>1</th>\n",
       "      <td>2</td>\n",
       "      <td>27928</td>\n",
       "      <td>313849</td>\n",
       "      <td>9.0</td>\n",
       "    </tr>\n",
       "    <tr>\n",
       "      <th>2</th>\n",
       "      <td>3</td>\n",
       "      <td>33432</td>\n",
       "      <td>307318</td>\n",
       "      <td>11.0</td>\n",
       "    </tr>\n",
       "    <tr>\n",
       "      <th>3</th>\n",
       "      <td>4</td>\n",
       "      <td>25380</td>\n",
       "      <td>302330</td>\n",
       "      <td>8.0</td>\n",
       "    </tr>\n",
       "    <tr>\n",
       "      <th>4</th>\n",
       "      <td>5</td>\n",
       "      <td>30321</td>\n",
       "      <td>301865</td>\n",
       "      <td>10.0</td>\n",
       "    </tr>\n",
       "    <tr>\n",
       "      <th>5</th>\n",
       "      <td>6</td>\n",
       "      <td>25977</td>\n",
       "      <td>304366</td>\n",
       "      <td>9.0</td>\n",
       "    </tr>\n",
       "    <tr>\n",
       "      <th>6</th>\n",
       "      <td>7</td>\n",
       "      <td>29889</td>\n",
       "      <td>310894</td>\n",
       "      <td>10.0</td>\n",
       "    </tr>\n",
       "    <tr>\n",
       "      <th>7</th>\n",
       "      <td>8</td>\n",
       "      <td>28736</td>\n",
       "      <td>317067</td>\n",
       "      <td>9.0</td>\n",
       "    </tr>\n",
       "    <tr>\n",
       "      <th>8</th>\n",
       "      <td>9</td>\n",
       "      <td>21955</td>\n",
       "      <td>257177</td>\n",
       "      <td>9.0</td>\n",
       "    </tr>\n",
       "  </tbody>\n",
       "</table>\n",
       "</div>"
      ],
      "text/plain": [
       "   DT_MES  QTD_FATURA_FX1  QTD_FATURA_TOTAL  PERCENT\n",
       "0       1           22835            313383      7.0\n",
       "1       2           27928            313849      9.0\n",
       "2       3           33432            307318     11.0\n",
       "3       4           25380            302330      8.0\n",
       "4       5           30321            301865     10.0\n",
       "5       6           25977            304366      9.0\n",
       "6       7           29889            310894     10.0\n",
       "7       8           28736            317067      9.0\n",
       "8       9           21955            257177      9.0"
      ]
     },
     "execution_count": 7,
     "metadata": {},
     "output_type": "execute_result"
    }
   ],
   "source": [
    "base1_resumo"
   ]
  },
  {
   "cell_type": "code",
   "execution_count": 8,
   "id": "d6819ce1",
   "metadata": {},
   "outputs": [
    {
     "data": {
      "image/png": "[encoded data removed]",
      "text/plain": [
       "<Figure size 432x288 with 1 Axes>"
      ]
     },
     "metadata": {},
     "output_type": "display_data"
    }
   ],
   "source": [
    "# Gráfico do percentual\n",
    "\n",
    "sns.set_theme(style=\"whitegrid\")\n",
    "sns.barplot(x='DT_MES', y='PERCENT', data = base1_resumo, color = \"#439F48\")\n",
    "plt.title(\"Percentual de faturas emitidas de clientes na 1ª rolagem\", fontdict={'fontsize':13})\n",
    "plt.xlabel('Mês')\n",
    "plt.ylabel('Percentual')\n",
    "plt.show()"
   ]
  },
  {
   "cell_type": "markdown",
   "id": "ddd898a0",
   "metadata": {},
   "source": [
    "Pela tabela e gráfico acima, podemos observar, nos clientes que estão na 1ª rolagem, que o mês com mais faturas emitidas foi março com 11% e o menor foi janeiro com 7%. (Levando em consideração que o mês de emissão é o mesmo do vencimento)"
   ]
  },
  {
   "cell_type": "markdown",
   "id": "6cf3f645",
   "metadata": {},
   "source": [
    "Algo que é interessante observar e pode ser levado em consideração, é que os clientes conseguem pagar mais as faturas do fim de ano (refletido no percentual de janeiro) do que as faturas 'do carnaval' (refletido no percentual de março). Uma variável que poderia influenciar isso é o recebimento do 13° salário."
   ]
  },
  {
   "cell_type": "markdown",
   "id": "de65740c",
   "metadata": {},
   "source": [
    "### 1.2 Faturas emitidas no mês de setembro"
   ]
  },
  {
   "cell_type": "code",
   "execution_count": 9,
   "id": "ad08b58a",
   "metadata": {},
   "outputs": [],
   "source": [
    "# Separando as contas\n",
    "base1_2 = base1[base1.DT_MES == 9]\n",
    "conta_set = base1_2.ID_CONTA.drop_duplicates()"
   ]
  },
  {
   "cell_type": "code",
   "execution_count": 10,
   "id": "873d05c6",
   "metadata": {},
   "outputs": [],
   "source": [
    "# Filtrando os 6 meses\n",
    "meses = [3,4,5,6,7,8]\n",
    "base1_2_ = base1[base1.DT_MES.isin(meses)]\n",
    "base1_2_ = base1_2_[base1_2_.ID_CONTA.isin(conta_set)]"
   ]
  },
  {
   "cell_type": "code",
   "execution_count": 11,
   "id": "f8c570b7",
   "metadata": {},
   "outputs": [],
   "source": [
    "# Total de faturas emitidas nos últimos 6 meses\n",
    "base1_2_gr = base1_2_.groupby(['ID_CONTA']).count()\n",
    "base1_2_gr = base1_2_gr.add_suffix('').reset_index()\n",
    "base1_2_gr = base1_2_gr[['ID_CONTA','DT_VENCIMENTO']]\n",
    "base1_2_gr.rename(columns={'DT_VENCIMENTO': 'QTD_FATURAS_ULT_6M'}, inplace = True)"
   ]
  },
  {
   "cell_type": "code",
   "execution_count": 12,
   "id": "e54915d5",
   "metadata": {},
   "outputs": [],
   "source": [
    "# Valor médio de fatura por conta\n",
    "base1_2_gr2 = base1_2_.groupby(['ID_CONTA']).mean()\n",
    "base1_2_gr2 = base1_2_gr2.add_suffix('').reset_index()\n",
    "base1_2_gr2 = base1_2_gr2[['ID_CONTA','VL_FATURA']]\n",
    "base1_2_gr2.rename(columns={'VL_FATURA': 'VL_MEDIO_FATURA'}, inplace = True)"
   ]
  },
  {
   "cell_type": "code",
   "execution_count": 13,
   "id": "382271fc",
   "metadata": {},
   "outputs": [],
   "source": [
    "# Não pagou a fatura anterior\n",
    "base1_2_gr3 = base1_2_[base1_2_.DS_ROLAGEM == 'FX1']\n",
    "base1_2_gr3 = base1_2_gr3.groupby(['ID_CONTA']).count()\n",
    "base1_2_gr3 = base1_2_gr3.add_suffix('').reset_index()\n",
    "base1_2_gr3 = base1_2_gr3[['ID_CONTA','DS_ROLAGEM']]\n",
    "base1_2_gr3.rename(columns={'DS_ROLAGEM': 'QTD_FATURAS_ULT_6M_FX1'}, inplace = True)"
   ]
  },
  {
   "cell_type": "code",
   "execution_count": 14,
   "id": "ea962161",
   "metadata": {},
   "outputs": [],
   "source": [
    "# Agrupando todas as bases anteriores\n",
    "base1_2_R = base1_2.drop(['DATA','DT_MES','VL_FATURA'], axis=1)\n",
    "base1_2_set = pd.merge(base1_2_R, base1_2_gr, how='left', on=['ID_CONTA'])\n",
    "base1_2_set = pd.merge(base1_2_set, base1_2_gr2, how='left', on=['ID_CONTA'])\n",
    "base1_2_set = pd.merge(base1_2_set, base1_2_gr3, how='left', on=['ID_CONTA'])"
   ]
  },
  {
   "cell_type": "code",
   "execution_count": 15,
   "id": "5f83d35e",
   "metadata": {},
   "outputs": [],
   "source": [
    "# Fazendo alguns ajustes na base final\n",
    "base1_2_set.VL_MEDIO_FATURA = base1_2_set.VL_MEDIO_FATURA.apply(lambda x: round(x,2))\n",
    "base1_2_set = base1_2_set.fillna(0)\n",
    "base1_2_set.QTD_FATURAS_ULT_6M = base1_2_set.QTD_FATURAS_ULT_6M.apply(lambda x: int(x))\n",
    "base1_2_set.QTD_FATURAS_ULT_6M_FX1 = base1_2_set.QTD_FATURAS_ULT_6M_FX1.apply(lambda x: int(x))"
   ]
  },
  {
   "cell_type": "code",
   "execution_count": 16,
   "id": "12a47af6",
   "metadata": {},
   "outputs": [
    {
     "data": {
      "text/html": [
       "<div>\n",
       "<style scoped>\n",
       "    .dataframe tbody tr th:only-of-type {\n",
       "        vertical-align: middle;\n",
       "    }\n",
       "\n",
       "    .dataframe tbody tr th {\n",
       "        vertical-align: top;\n",
       "    }\n",
       "\n",
       "    .dataframe thead th {\n",
       "        text-align: right;\n",
       "    }\n",
       "</style>\n",
       "<table border=\"1\" class=\"dataframe\">\n",
       "  <thead>\n",
       "    <tr style=\"text-align: right;\">\n",
       "      <th></th>\n",
       "      <th>ID_CONTA</th>\n",
       "      <th>DT_VENCIMENTO</th>\n",
       "      <th>DS_ROLAGEM</th>\n",
       "      <th>QTD_FATURAS_ULT_6M</th>\n",
       "      <th>VL_MEDIO_FATURA</th>\n",
       "      <th>QTD_FATURAS_ULT_6M_FX1</th>\n",
       "    </tr>\n",
       "  </thead>\n",
       "  <tbody>\n",
       "    <tr>\n",
       "      <th>0</th>\n",
       "      <td>99416</td>\n",
       "      <td>2019-09-01</td>\n",
       "      <td>FX0</td>\n",
       "      <td>6</td>\n",
       "      <td>2791.62</td>\n",
       "      <td>0</td>\n",
       "    </tr>\n",
       "    <tr>\n",
       "      <th>1</th>\n",
       "      <td>52706</td>\n",
       "      <td>2019-09-01</td>\n",
       "      <td>FX0</td>\n",
       "      <td>6</td>\n",
       "      <td>309.64</td>\n",
       "      <td>0</td>\n",
       "    </tr>\n",
       "    <tr>\n",
       "      <th>2</th>\n",
       "      <td>1024221</td>\n",
       "      <td>2019-09-01</td>\n",
       "      <td>FX0</td>\n",
       "      <td>6</td>\n",
       "      <td>295.18</td>\n",
       "      <td>0</td>\n",
       "    </tr>\n",
       "    <tr>\n",
       "      <th>3</th>\n",
       "      <td>1024238</td>\n",
       "      <td>2019-09-01</td>\n",
       "      <td>FX0</td>\n",
       "      <td>6</td>\n",
       "      <td>870.56</td>\n",
       "      <td>0</td>\n",
       "    </tr>\n",
       "    <tr>\n",
       "      <th>4</th>\n",
       "      <td>1024293</td>\n",
       "      <td>2019-09-01</td>\n",
       "      <td>FX0</td>\n",
       "      <td>6</td>\n",
       "      <td>1646.75</td>\n",
       "      <td>0</td>\n",
       "    </tr>\n",
       "    <tr>\n",
       "      <th>...</th>\n",
       "      <td>...</td>\n",
       "      <td>...</td>\n",
       "      <td>...</td>\n",
       "      <td>...</td>\n",
       "      <td>...</td>\n",
       "      <td>...</td>\n",
       "    </tr>\n",
       "    <tr>\n",
       "      <th>257172</th>\n",
       "      <td>1751997</td>\n",
       "      <td>2019-09-23</td>\n",
       "      <td>FX0</td>\n",
       "      <td>0</td>\n",
       "      <td>0.00</td>\n",
       "      <td>0</td>\n",
       "    </tr>\n",
       "    <tr>\n",
       "      <th>257173</th>\n",
       "      <td>1752023</td>\n",
       "      <td>2019-09-23</td>\n",
       "      <td>FX0</td>\n",
       "      <td>0</td>\n",
       "      <td>0.00</td>\n",
       "      <td>0</td>\n",
       "    </tr>\n",
       "    <tr>\n",
       "      <th>257174</th>\n",
       "      <td>1752049</td>\n",
       "      <td>2019-09-23</td>\n",
       "      <td>FX0</td>\n",
       "      <td>0</td>\n",
       "      <td>0.00</td>\n",
       "      <td>0</td>\n",
       "    </tr>\n",
       "    <tr>\n",
       "      <th>257175</th>\n",
       "      <td>1752120</td>\n",
       "      <td>2019-09-23</td>\n",
       "      <td>FX0</td>\n",
       "      <td>0</td>\n",
       "      <td>0.00</td>\n",
       "      <td>0</td>\n",
       "    </tr>\n",
       "    <tr>\n",
       "      <th>257176</th>\n",
       "      <td>1752194</td>\n",
       "      <td>2019-09-23</td>\n",
       "      <td>FX0</td>\n",
       "      <td>0</td>\n",
       "      <td>0.00</td>\n",
       "      <td>0</td>\n",
       "    </tr>\n",
       "  </tbody>\n",
       "</table>\n",
       "<p>257177 rows × 6 columns</p>\n",
       "</div>"
      ],
      "text/plain": [
       "        ID_CONTA DT_VENCIMENTO DS_ROLAGEM  QTD_FATURAS_ULT_6M  \\\n",
       "0          99416    2019-09-01        FX0                   6   \n",
       "1          52706    2019-09-01        FX0                   6   \n",
       "2        1024221    2019-09-01        FX0                   6   \n",
       "3        1024238    2019-09-01        FX0                   6   \n",
       "4        1024293    2019-09-01        FX0                   6   \n",
       "...          ...           ...        ...                 ...   \n",
       "257172   1751997    2019-09-23        FX0                   0   \n",
       "257173   1752023    2019-09-23        FX0                   0   \n",
       "257174   1752049    2019-09-23        FX0                   0   \n",
       "257175   1752120    2019-09-23        FX0                   0   \n",
       "257176   1752194    2019-09-23        FX0                   0   \n",
       "\n",
       "        VL_MEDIO_FATURA  QTD_FATURAS_ULT_6M_FX1  \n",
       "0               2791.62                       0  \n",
       "1                309.64                       0  \n",
       "2                295.18                       0  \n",
       "3                870.56                       0  \n",
       "4               1646.75                       0  \n",
       "...                 ...                     ...  \n",
       "257172             0.00                       0  \n",
       "257173             0.00                       0  \n",
       "257174             0.00                       0  \n",
       "257175             0.00                       0  \n",
       "257176             0.00                       0  \n",
       "\n",
       "[257177 rows x 6 columns]"
      ]
     },
     "execution_count": 16,
     "metadata": {},
     "output_type": "execute_result"
    }
   ],
   "source": [
    "base1_2_set"
   ]
  },
  {
   "cell_type": "markdown",
   "id": "d2896b9b",
   "metadata": {},
   "source": [
    "O percentual de clientes com fatura em setembro que estão na primeira rolagem é de 8,54%"
   ]
  },
  {
   "cell_type": "code",
   "execution_count": 17,
   "id": "d295bd31",
   "metadata": {},
   "outputs": [
    {
     "name": "stdout",
     "output_type": "stream",
     "text": [
      "% de clientes FX0:  91.46\n",
      "% de clientes FX1:  8.54\n"
     ]
    }
   ],
   "source": [
    "print(\"% de clientes FX0: \", round(len(base1_2_set[base1_2_set.DS_ROLAGEM == 'FX0'])/len(base1_2_set) *100, 2))\n",
    "print(\"% de clientes FX1: \",round(len(base1_2_set[base1_2_set.DS_ROLAGEM == 'FX1'])/len(base1_2_set) *100, 2))"
   ]
  },
  {
   "cell_type": "code",
   "execution_count": 18,
   "id": "6526e4f1",
   "metadata": {},
   "outputs": [
    {
     "data": {
      "image/png": "[encoded data removed]",
      "text/plain": [
       "<Figure size 432x288 with 1 Axes>"
      ]
     },
     "metadata": {},
     "output_type": "display_data"
    }
   ],
   "source": [
    "sns.set_theme(style=\"whitegrid\")\n",
    "sns.countplot(x='DS_ROLAGEM',data=base1_2_set)\n",
    "plt.title(\"Proporção de clientes em rolagem\", fontdict={'fontsize':13})\n",
    "plt.xlabel('Rolagem')\n",
    "plt.ylabel('Quantidade')\n",
    "plt.show()"
   ]
  },
  {
   "cell_type": "markdown",
   "id": "3dfbff4b",
   "metadata": {},
   "source": [
    "### 1.3 Relação das variáveis calculadas com a rolagem"
   ]
  },
  {
   "cell_type": "code",
   "execution_count": 19,
   "id": "aa0f7e0c",
   "metadata": {},
   "outputs": [
    {
     "data": {
      "image/png": "[encoded data removed]",
      "text/plain": [
       "<Figure size 1440x360 with 3 Axes>"
      ]
     },
     "metadata": {},
     "output_type": "display_data"
    }
   ],
   "source": [
    "fig, axes = plt.subplots(1, 3, figsize=(20, 5), sharey=False)\n",
    "fig.suptitle('Relação entre Rolagem e Total de faturas / Valor médio / Faturas FX1', fontdict={'fontsize':15})\n",
    "\n",
    "sns.boxplot(y='QTD_FATURAS_ULT_6M', x='DS_ROLAGEM', data = base1_2_set, ax=axes[0])\n",
    "sns.boxplot(y='VL_MEDIO_FATURA', x='DS_ROLAGEM', data = base1_2_set, ax=axes[1])\n",
    "sns.boxplot(y='QTD_FATURAS_ULT_6M_FX1', x='DS_ROLAGEM', data = base1_2_set, ax=axes[2])\n",
    "\n",
    "plt.show()"
   ]
  },
  {
   "cell_type": "markdown",
   "id": "c6c1b1b8",
   "metadata": {},
   "source": [
    "Verificando os 3 gráficos acima percebemos que a variável QTD_FATURAS_ULT_6M_FX1 possui a maior diferença com relação a rolagem de setembro, indicando que impacta mais na variável DS_ROLAGEM. 50% dos clientes que estão em rolagem no mês de setembro já possuiram algum débito em outras faturas.\n",
    "Em seguida temos o total de faturas dos últimos 6 meses indicando que quanto menos faturas o cliente possui nesse intervalo, menor é a chance de inadimplencia em setembro."
   ]
  }
 ],
 "metadata": {
  "kernelspec": {
   "display_name": "Python 3 (ipykernel)",
   "language": "python",
   "name": "python3"
  },
  "language_info": {
   "codemirror_mode": {
    "name": "ipython",
    "version": 3
   },
   "file_extension": ".py",
   "mimetype": "text/x-python",
   "name": "python",
   "nbconvert_exporter": "python",
   "pygments_lexer": "ipython3",
   "version": "3.9.1"
  }
 },
 "nbformat": 4,
 "nbformat_minor": 5
}
