{
 "cells": [
  {
   "cell_type": "markdown",
   "id": "bd24114a",
   "metadata": {},
   "source": [
    "## Questão 2"
   ]
  },
  {
   "cell_type": "markdown",
   "id": "0305870a",
   "metadata": {},
   "source": [
    "##### Esta etapa se baseia na análise dos dados e construção de um modelo para analisarmos a aderência a acordos de clientes que estão com mais de 180 dias de atraso nas suas faturas de cartão de crédito."
   ]
  },
  {
   "cell_type": "code",
   "execution_count": 39,
   "id": "281a4a3c",
   "metadata": {},
   "outputs": [],
   "source": [
    "## Importando as bibliotecas necessárias\n",
    "\n",
    "import pandas as pd\n",
    "import numpy as np\n",
    "from datetime import date, datetime, timedelta\n",
    "import matplotlib.pyplot as plt\n",
    "import seaborn as sns\n",
    "\n",
    "import warnings\n",
    "from pandas.core.common import SettingWithCopyWarning\n",
    "warnings.simplefilter(action=\"ignore\", category=SettingWithCopyWarning)"
   ]
  },
  {
   "cell_type": "code",
   "execution_count": 2,
   "id": "8aa2853c",
   "metadata": {},
   "outputs": [],
   "source": [
    "base2_1 = pd.read_csv('.../Questão 2 - Base 1.txt', sep=\"\\t\")\n",
    "base2_2 = pd.read_csv('.../Questão 2 - Base 2.txt', sep=\"\\t\")\n",
    "base2_3 = pd.read_csv('.../Questão 2 - Base 3.txt', sep=\"\\t\")\n",
    "base2_4 = pd.read_csv('.../Questão 2 - Base 4.txt', sep=\"\\t\")\n",
    "base2_5 = pd.read_csv('.../Questão 2 - Base 5.txt', sep=\"\\t\")"
   ]
  },
  {
   "cell_type": "markdown",
   "id": "6cb37fe9",
   "metadata": {},
   "source": [
    "A base 4 possui uma coluna com um tipo diferente das demais. É preciso fazer uma transformação nela."
   ]
  },
  {
   "cell_type": "code",
   "execution_count": 3,
   "id": "d1cd32e8",
   "metadata": {},
   "outputs": [],
   "source": [
    "base2_4['DT_ACORDO'] = base2_4['DT_ACORDO'].apply(lambda x: x[:10])"
   ]
  },
  {
   "cell_type": "markdown",
   "id": "007bd1bd",
   "metadata": {},
   "source": [
    "Juntando todas em uma só:"
   ]
  },
  {
   "cell_type": "code",
   "execution_count": 4,
   "id": "c3d48879",
   "metadata": {},
   "outputs": [
    {
     "data": {
      "text/html": [
       "<div>\n",
       "<style scoped>\n",
       "    .dataframe tbody tr th:only-of-type {\n",
       "        vertical-align: middle;\n",
       "    }\n",
       "\n",
       "    .dataframe tbody tr th {\n",
       "        vertical-align: top;\n",
       "    }\n",
       "\n",
       "    .dataframe thead th {\n",
       "        text-align: right;\n",
       "    }\n",
       "</style>\n",
       "<table border=\"1\" class=\"dataframe\">\n",
       "  <thead>\n",
       "    <tr style=\"text-align: right;\">\n",
       "      <th></th>\n",
       "      <th>ID_CONTA</th>\n",
       "      <th>DT_ACORDO</th>\n",
       "      <th>NU_DIAS_ATRASO</th>\n",
       "      <th>VALOR_CRELIQ</th>\n",
       "      <th>DIVIDA_ATUAL</th>\n",
       "      <th>RESPOSTA</th>\n",
       "      <th>QTD_PARCELAMENTO_3M</th>\n",
       "      <th>QTD_PARCELAMENTO_6M</th>\n",
       "      <th>QTD_PARCELAMENTO_12M</th>\n",
       "      <th>LIMITE</th>\n",
       "      <th>...</th>\n",
       "      <th>QTD_CPC_3M</th>\n",
       "      <th>QTD_CPC_6M</th>\n",
       "      <th>QTD_CP_10D</th>\n",
       "      <th>QTD_CP_1M</th>\n",
       "      <th>QTD_CP_3M</th>\n",
       "      <th>QTD_CP_6M</th>\n",
       "      <th>QTD_ACIONAMENTO_10D</th>\n",
       "      <th>QTD_ACIONAMENTO_1M</th>\n",
       "      <th>QTD_ACIONAMENTO_3M</th>\n",
       "      <th>QTD_ACIONAMENTO_6M</th>\n",
       "    </tr>\n",
       "  </thead>\n",
       "  <tbody>\n",
       "    <tr>\n",
       "      <th>0</th>\n",
       "      <td>1194908</td>\n",
       "      <td>2018-11-22</td>\n",
       "      <td>221</td>\n",
       "      <td>324.38</td>\n",
       "      <td>463.73</td>\n",
       "      <td>0</td>\n",
       "      <td>0</td>\n",
       "      <td>0</td>\n",
       "      <td>0</td>\n",
       "      <td>1820.0</td>\n",
       "      <td>...</td>\n",
       "      <td>0.0</td>\n",
       "      <td>0.0</td>\n",
       "      <td>0.0</td>\n",
       "      <td>0.0</td>\n",
       "      <td>0.0</td>\n",
       "      <td>0.0</td>\n",
       "      <td>0.0</td>\n",
       "      <td>0.0</td>\n",
       "      <td>0.0</td>\n",
       "      <td>36.0</td>\n",
       "    </tr>\n",
       "    <tr>\n",
       "      <th>1</th>\n",
       "      <td>1447997</td>\n",
       "      <td>2018-11-22</td>\n",
       "      <td>191</td>\n",
       "      <td>334.82</td>\n",
       "      <td>451.56</td>\n",
       "      <td>1</td>\n",
       "      <td>0</td>\n",
       "      <td>0</td>\n",
       "      <td>0</td>\n",
       "      <td>449.0</td>\n",
       "      <td>...</td>\n",
       "      <td>2.0</td>\n",
       "      <td>4.0</td>\n",
       "      <td>0.0</td>\n",
       "      <td>1.0</td>\n",
       "      <td>2.0</td>\n",
       "      <td>2.0</td>\n",
       "      <td>8.0</td>\n",
       "      <td>11.0</td>\n",
       "      <td>78.0</td>\n",
       "      <td>241.0</td>\n",
       "    </tr>\n",
       "    <tr>\n",
       "      <th>2</th>\n",
       "      <td>1035415</td>\n",
       "      <td>2018-11-22</td>\n",
       "      <td>252</td>\n",
       "      <td>1682.26</td>\n",
       "      <td>2554.18</td>\n",
       "      <td>0</td>\n",
       "      <td>0</td>\n",
       "      <td>0</td>\n",
       "      <td>0</td>\n",
       "      <td>1208.0</td>\n",
       "      <td>...</td>\n",
       "      <td>0.0</td>\n",
       "      <td>0.0</td>\n",
       "      <td>0.0</td>\n",
       "      <td>0.0</td>\n",
       "      <td>0.0</td>\n",
       "      <td>0.0</td>\n",
       "      <td>2.0</td>\n",
       "      <td>3.0</td>\n",
       "      <td>6.0</td>\n",
       "      <td>16.0</td>\n",
       "    </tr>\n",
       "    <tr>\n",
       "      <th>3</th>\n",
       "      <td>1069434</td>\n",
       "      <td>2018-11-22</td>\n",
       "      <td>231</td>\n",
       "      <td>1625.01</td>\n",
       "      <td>2368.65</td>\n",
       "      <td>0</td>\n",
       "      <td>0</td>\n",
       "      <td>0</td>\n",
       "      <td>0</td>\n",
       "      <td>3499.0</td>\n",
       "      <td>...</td>\n",
       "      <td>0.0</td>\n",
       "      <td>0.0</td>\n",
       "      <td>0.0</td>\n",
       "      <td>0.0</td>\n",
       "      <td>0.0</td>\n",
       "      <td>0.0</td>\n",
       "      <td>1.0</td>\n",
       "      <td>1.0</td>\n",
       "      <td>1.0</td>\n",
       "      <td>1.0</td>\n",
       "    </tr>\n",
       "    <tr>\n",
       "      <th>4</th>\n",
       "      <td>1427566</td>\n",
       "      <td>2018-11-22</td>\n",
       "      <td>270</td>\n",
       "      <td>320.07</td>\n",
       "      <td>503.25</td>\n",
       "      <td>0</td>\n",
       "      <td>0</td>\n",
       "      <td>0</td>\n",
       "      <td>0</td>\n",
       "      <td>270.0</td>\n",
       "      <td>...</td>\n",
       "      <td>0.0</td>\n",
       "      <td>0.0</td>\n",
       "      <td>0.0</td>\n",
       "      <td>1.0</td>\n",
       "      <td>1.0</td>\n",
       "      <td>1.0</td>\n",
       "      <td>10.0</td>\n",
       "      <td>13.0</td>\n",
       "      <td>13.0</td>\n",
       "      <td>13.0</td>\n",
       "    </tr>\n",
       "  </tbody>\n",
       "</table>\n",
       "<p>5 rows × 32 columns</p>\n",
       "</div>"
      ],
      "text/plain": [
       "   ID_CONTA   DT_ACORDO  NU_DIAS_ATRASO  VALOR_CRELIQ  DIVIDA_ATUAL  RESPOSTA  \\\n",
       "0   1194908  2018-11-22             221        324.38        463.73         0   \n",
       "1   1447997  2018-11-22             191        334.82        451.56         1   \n",
       "2   1035415  2018-11-22             252       1682.26       2554.18         0   \n",
       "3   1069434  2018-11-22             231       1625.01       2368.65         0   \n",
       "4   1427566  2018-11-22             270        320.07        503.25         0   \n",
       "\n",
       "   QTD_PARCELAMENTO_3M  QTD_PARCELAMENTO_6M  QTD_PARCELAMENTO_12M  LIMITE  \\\n",
       "0                    0                    0                     0  1820.0   \n",
       "1                    0                    0                     0   449.0   \n",
       "2                    0                    0                     0  1208.0   \n",
       "3                    0                    0                     0  3499.0   \n",
       "4                    0                    0                     0   270.0   \n",
       "\n",
       "   ...  QTD_CPC_3M  QTD_CPC_6M  QTD_CP_10D  QTD_CP_1M  QTD_CP_3M  QTD_CP_6M  \\\n",
       "0  ...         0.0         0.0         0.0        0.0        0.0        0.0   \n",
       "1  ...         2.0         4.0         0.0        1.0        2.0        2.0   \n",
       "2  ...         0.0         0.0         0.0        0.0        0.0        0.0   \n",
       "3  ...         0.0         0.0         0.0        0.0        0.0        0.0   \n",
       "4  ...         0.0         0.0         0.0        1.0        1.0        1.0   \n",
       "\n",
       "   QTD_ACIONAMENTO_10D  QTD_ACIONAMENTO_1M  QTD_ACIONAMENTO_3M  \\\n",
       "0                  0.0                 0.0                 0.0   \n",
       "1                  8.0                11.0                78.0   \n",
       "2                  2.0                 3.0                 6.0   \n",
       "3                  1.0                 1.0                 1.0   \n",
       "4                 10.0                13.0                13.0   \n",
       "\n",
       "   QTD_ACIONAMENTO_6M  \n",
       "0                36.0  \n",
       "1               241.0  \n",
       "2                16.0  \n",
       "3                 1.0  \n",
       "4                13.0  \n",
       "\n",
       "[5 rows x 32 columns]"
      ]
     },
     "execution_count": 4,
     "metadata": {},
     "output_type": "execute_result"
    }
   ],
   "source": [
    "base2_resumo = pd.merge(base2_1, base2_2, how='left', on=['ID_CONTA','DT_ACORDO'])\n",
    "base2_resumo = pd.merge(base2_resumo, base2_3, how='left', on=['ID_CONTA','DT_ACORDO'])\n",
    "base2_resumo = pd.merge(base2_resumo, base2_4, how='left', on=['ID_CONTA','DT_ACORDO'])\n",
    "base2_resumo = pd.merge(base2_resumo, base2_5, how='left', on=['ID_CONTA','DT_ACORDO'])\n",
    "base2_resumo = base2_resumo.drop_duplicates()\n",
    "base2_resumo.head()"
   ]
  },
  {
   "cell_type": "markdown",
   "id": "16596223",
   "metadata": {},
   "source": [
    "Com a junção, alguns valores ficaram nulos. Será preciso substituir os nulos por zero."
   ]
  },
  {
   "cell_type": "code",
   "execution_count": 5,
   "id": "e87d62e5",
   "metadata": {},
   "outputs": [
    {
     "name": "stdout",
     "output_type": "stream",
     "text": [
      "True\n",
      "True\n"
     ]
    }
   ],
   "source": [
    "print(base2_resumo.isnull().values.any())\n",
    "print(base2_resumo.isna().values.any())"
   ]
  },
  {
   "cell_type": "code",
   "execution_count": 6,
   "id": "171eff8f",
   "metadata": {},
   "outputs": [
    {
     "name": "stdout",
     "output_type": "stream",
     "text": [
      "False\n",
      "False\n"
     ]
    }
   ],
   "source": [
    "base2_resumo = base2_resumo.fillna(0)\n",
    "print(base2_resumo.isnull().values.any())\n",
    "print(base2_resumo.isna().values.any())"
   ]
  },
  {
   "cell_type": "markdown",
   "id": "5b804251",
   "metadata": {},
   "source": [
    "Como esse conjunto de dados possui muitas colunas, iremos trabalhar com elas de forma separada. Essa será a ordem:"
   ]
  },
  {
   "cell_type": "markdown",
   "id": "63eb1c69",
   "metadata": {},
   "source": [
    "1. Dias em atraso\n",
    "2. Valor de dívidas\n",
    "3. Parcelamentos\n",
    "4. Faturas emitidas\n",
    "5. Ligações"
   ]
  },
  {
   "cell_type": "markdown",
   "id": "93d0db9e",
   "metadata": {},
   "source": [
    "## Dias em atraso"
   ]
  },
  {
   "cell_type": "markdown",
   "id": "331b9d48",
   "metadata": {},
   "source": [
    "A variável de interesse é 'RESPOSTA', em que 0 significa que o cliente não aderiu ao acordo e 1 caso contrário. O percentual de adesão aos acordos é de aproximadamente 3%."
   ]
  },
  {
   "cell_type": "code",
   "execution_count": 10,
   "id": "776ab5d7",
   "metadata": {},
   "outputs": [
    {
     "name": "stdout",
     "output_type": "stream",
     "text": [
      "% de adesão:  2.96\n",
      "% de não adesão:  97.04\n"
     ]
    }
   ],
   "source": [
    "print(\"% de adesão: \", round(len(base2_resumo[base2_resumo.RESPOSTA == 1])/len(base2_resumo) *100, 2))\n",
    "print(\"% de não adesão: \",round(len(base2_resumo[base2_resumo.RESPOSTA == 0])/len(base2_resumo) *100, 2))"
   ]
  },
  {
   "cell_type": "code",
   "execution_count": 184,
   "id": "7e2f52b9",
   "metadata": {},
   "outputs": [
    {
     "data": {
      "image/png": "[encoded data removed]",
      "text/plain": [
       "<Figure size 432x288 with 1 Axes>"
      ]
     },
     "metadata": {},
     "output_type": "display_data"
    }
   ],
   "source": [
    "sns.set_theme(style=\"whitegrid\")\n",
    "sns.countplot(x='RESPOSTA',data=base2_resumo)\n",
    "plt.title(\"Proporção de adesão ao acordo\", fontdict={'fontsize':13})\n",
    "plt.xlabel('Adesão')\n",
    "plt.ylabel('Quantidade')\n",
    "plt.show()"
   ]
  },
  {
   "cell_type": "code",
   "execution_count": 180,
   "id": "d2666299",
   "metadata": {},
   "outputs": [
    {
     "data": {
      "text/plain": [
       "count    72532.000000\n",
       "mean       326.611372\n",
       "std         97.164631\n",
       "min        181.000000\n",
       "25%        245.000000\n",
       "50%        311.000000\n",
       "75%        400.000000\n",
       "max        540.000000\n",
       "Name: NU_DIAS_ATRASO, dtype: float64"
      ]
     },
     "execution_count": 180,
     "metadata": {},
     "output_type": "execute_result"
    }
   ],
   "source": [
    "base2_resumo['NU_DIAS_ATRASO'].describe()"
   ]
  },
  {
   "cell_type": "code",
   "execution_count": 188,
   "id": "da777164",
   "metadata": {},
   "outputs": [
    {
     "data": {
      "image/png": "[encoded data removed]",
      "text/plain": [
       "<Figure size 432x288 with 1 Axes>"
      ]
     },
     "metadata": {},
     "output_type": "display_data"
    }
   ],
   "source": [
    "sns.histplot(x='NU_DIAS_ATRASO', data = base2_resumo, kde=True)\n",
    "plt.title(\"Histograma de dias em atraso da dívida\", fontdict={'fontsize':13})\n",
    "plt.xlabel('Dias')\n",
    "plt.ylabel('Quantidade')\n",
    "plt.show()"
   ]
  },
  {
   "cell_type": "markdown",
   "id": "b4b62acd",
   "metadata": {},
   "source": [
    "É possível notar que a maior concentração das faturas em dívida está nos primeiros dias de cobrança. Após 350 dias esse número diminui, mas ainda em grandes quantidades."
   ]
  },
  {
   "cell_type": "markdown",
   "id": "743fa936",
   "metadata": {},
   "source": [
    "### % de adesão mensal por faixa de atraso"
   ]
  },
  {
   "cell_type": "code",
   "execution_count": 168,
   "id": "8ae48300",
   "metadata": {},
   "outputs": [],
   "source": [
    "base_dias = base2_resumo[['ID_CONTA','DT_ACORDO','NU_DIAS_ATRASO','RESPOSTA']]"
   ]
  },
  {
   "cell_type": "code",
   "execution_count": 169,
   "id": "8029a053",
   "metadata": {},
   "outputs": [],
   "source": [
    "## Criando uma base para calcular o percentual por mês\n",
    "\n",
    "base_dias.DT_ACORDO = base_dias.DT_ACORDO.apply(lambda x: dt.datetime.strptime(x, \"%Y-%m-%d\"))\n",
    "\n",
    "dias = []\n",
    "\n",
    "for i in base_dias.NU_DIAS_ATRASO:\n",
    "    dias.append(timedelta(days=int(i)))\n",
    "    \n",
    "base_dias[\"dias\"] = dias\n",
    "base_dias['DT_DIVIDA'] = base_dias.DT_ACORDO - base_dias.dias\n",
    "base_dias['meses'] = ((base_dias.DT_ACORDO - base_dias.DT_DIVIDA)/np.timedelta64(1 , 'M')).astype(int)\n",
    "base_dias.meses.replace(5,6, inplace = True)"
   ]
  },
  {
   "cell_type": "code",
   "execution_count": 170,
   "id": "cc6463f2",
   "metadata": {
    "scrolled": true
   },
   "outputs": [],
   "source": [
    "base_dias_0 = base_dias[base_dias.RESPOSTA == 0]\n",
    "base_dias_1 = base_dias[base_dias.RESPOSTA == 1]\n",
    "\n",
    "base_dias_0 = base_dias_0.groupby(['meses']).count()\n",
    "base_dias_0 = base_dias_0.add_suffix('').reset_index()\n",
    "base_dias_0 = base_dias_0[['meses','ID_CONTA']]\n",
    "base_dias_0.rename(columns={'ID_CONTA': 'QTD_0'}, inplace = True)\n",
    "\n",
    "base_dias_1 = base_dias_1.groupby(['meses']).count()\n",
    "base_dias_1 = base_dias_1.add_suffix('').reset_index()\n",
    "base_dias_1 = base_dias_1[['meses','ID_CONTA']]\n",
    "base_dias_1.rename(columns={'ID_CONTA': 'QTD_1'}, inplace = True)\n",
    "\n",
    "bd_meses = pd.merge(base_dias_0, base_dias_1, how='left', on='meses')\n",
    "bd_meses['PERCENT'] = round(bd_meses.QTD_1/(bd_meses.QTD_0+bd_meses.QTD_1)*100,2)"
   ]
  },
  {
   "cell_type": "code",
   "execution_count": 186,
   "id": "1f6f91e7",
   "metadata": {},
   "outputs": [
    {
     "data": {
      "image/png": "[encoded data removed]",
      "text/plain": [
       "<Figure size 432x288 with 1 Axes>"
      ]
     },
     "metadata": {},
     "output_type": "display_data"
    }
   ],
   "source": [
    "plt.plot('meses','PERCENT', data = bd_meses, color = \"#439F48\")\n",
    "plt.title(\"Percentual de adesão por faixa de atraso\", fontdict={'fontsize':13})\n",
    "plt.xlabel('Qtd de meses')\n",
    "plt.ylabel('Percentual')\n",
    "plt.show()"
   ]
  },
  {
   "cell_type": "markdown",
   "id": "19af6b51",
   "metadata": {},
   "source": [
    "Nos primeiros meses do acordo, após 180 dias do atraso da fatura, a taxa de adesão atinge 3,89%. Quanto mais o tempo passa, menor é a chance de o cliente aderir ao acordo, pois a taxa decresce atingindo 1,11% com 17 meses."
   ]
  },
  {
   "cell_type": "markdown",
   "id": "42c19cca",
   "metadata": {},
   "source": [
    "## Valor de dívidas"
   ]
  },
  {
   "cell_type": "code",
   "execution_count": 202,
   "id": "be98f8ca",
   "metadata": {},
   "outputs": [
    {
     "data": {
      "text/html": [
       "<div>\n",
       "<style scoped>\n",
       "    .dataframe tbody tr th:only-of-type {\n",
       "        vertical-align: middle;\n",
       "    }\n",
       "\n",
       "    .dataframe tbody tr th {\n",
       "        vertical-align: top;\n",
       "    }\n",
       "\n",
       "    .dataframe thead th {\n",
       "        text-align: right;\n",
       "    }\n",
       "</style>\n",
       "<table border=\"1\" class=\"dataframe\">\n",
       "  <thead>\n",
       "    <tr style=\"text-align: right;\">\n",
       "      <th></th>\n",
       "      <th>NU_DIAS_ATRASO</th>\n",
       "      <th>VALOR_CRELIQ</th>\n",
       "      <th>DIVIDA_ATUAL</th>\n",
       "      <th>LIMITE</th>\n",
       "    </tr>\n",
       "  </thead>\n",
       "  <tbody>\n",
       "    <tr>\n",
       "      <th>NU_DIAS_ATRASO</th>\n",
       "      <td>1.000000</td>\n",
       "      <td>0.171923</td>\n",
       "      <td>0.390775</td>\n",
       "      <td>0.149175</td>\n",
       "    </tr>\n",
       "    <tr>\n",
       "      <th>VALOR_CRELIQ</th>\n",
       "      <td>0.171923</td>\n",
       "      <td>1.000000</td>\n",
       "      <td>0.955451</td>\n",
       "      <td>0.793582</td>\n",
       "    </tr>\n",
       "    <tr>\n",
       "      <th>DIVIDA_ATUAL</th>\n",
       "      <td>0.390775</td>\n",
       "      <td>0.955451</td>\n",
       "      <td>1.000000</td>\n",
       "      <td>0.751625</td>\n",
       "    </tr>\n",
       "    <tr>\n",
       "      <th>LIMITE</th>\n",
       "      <td>0.149175</td>\n",
       "      <td>0.793582</td>\n",
       "      <td>0.751625</td>\n",
       "      <td>1.000000</td>\n",
       "    </tr>\n",
       "  </tbody>\n",
       "</table>\n",
       "</div>"
      ],
      "text/plain": [
       "                NU_DIAS_ATRASO  VALOR_CRELIQ  DIVIDA_ATUAL    LIMITE\n",
       "NU_DIAS_ATRASO        1.000000      0.171923      0.390775  0.149175\n",
       "VALOR_CRELIQ          0.171923      1.000000      0.955451  0.793582\n",
       "DIVIDA_ATUAL          0.390775      0.955451      1.000000  0.751625\n",
       "LIMITE                0.149175      0.793582      0.751625  1.000000"
      ]
     },
     "execution_count": 202,
     "metadata": {},
     "output_type": "execute_result"
    }
   ],
   "source": [
    "base2_resumo[['NU_DIAS_ATRASO','VALOR_CRELIQ','DIVIDA_ATUAL','LIMITE']].corr()"
   ]
  },
  {
   "cell_type": "code",
   "execution_count": 201,
   "id": "34e715e4",
   "metadata": {},
   "outputs": [
    {
     "data": {
      "image/png": "[encoded data removed]",
      "text/plain": [
       "<Figure size 1440x360 with 3 Axes>"
      ]
     },
     "metadata": {},
     "output_type": "display_data"
    }
   ],
   "source": [
    "fig, axes = plt.subplots(1, 3, figsize=(20, 5), sharey=False)\n",
    "fig.suptitle('Relação entre Resposta e Valor creliq / Divida atual / Limite', fontdict={'fontsize':13})\n",
    "\n",
    "sns.boxplot(y='VALOR_CRELIQ', x='RESPOSTA', data = base2_resumo, ax=axes[0])\n",
    "sns.boxplot(y='DIVIDA_ATUAL', x='RESPOSTA', data = base2_resumo, ax=axes[1])\n",
    "sns.boxplot(y='LIMITE', x='RESPOSTA', data = base2_resumo, ax=axes[2])\n",
    "\n",
    "plt.show()"
   ]
  },
  {
   "cell_type": "markdown",
   "id": "bc6961d6",
   "metadata": {},
   "source": [
    "Verificando as variáveis VALOR_CRELIQ que é o valor da dívida quando se ultrapassa 65 dias e DIVIDA_ATUAL que é a dívida atualizada com juros e LIMITE, é possível notar uma alta correlação entre as primeiras (0,95). Assim sendo, as duas agem da mesma forma na variável resposta, como é notada pelo boxplot. Pelo limite também não vemos diferença entre a adesão de acordo."
   ]
  },
  {
   "cell_type": "markdown",
   "id": "3a631eb2",
   "metadata": {},
   "source": [
    "Não parece haver uma diferença entre o valor da dívida ou o valor em creliq pela adesão aos acordos. Só é possível notar que os valores mais altos não possuem acordos."
   ]
  },
  {
   "cell_type": "markdown",
   "id": "6f2b28cb",
   "metadata": {},
   "source": [
    "## Parcelamentos"
   ]
  },
  {
   "cell_type": "code",
   "execution_count": 211,
   "id": "ffb3a33f",
   "metadata": {},
   "outputs": [
    {
     "data": {
      "text/html": [
       "<div>\n",
       "<style scoped>\n",
       "    .dataframe tbody tr th:only-of-type {\n",
       "        vertical-align: middle;\n",
       "    }\n",
       "\n",
       "    .dataframe tbody tr th {\n",
       "        vertical-align: top;\n",
       "    }\n",
       "\n",
       "    .dataframe thead th {\n",
       "        text-align: right;\n",
       "    }\n",
       "</style>\n",
       "<table border=\"1\" class=\"dataframe\">\n",
       "  <thead>\n",
       "    <tr style=\"text-align: right;\">\n",
       "      <th></th>\n",
       "      <th>QTD_PARCELAMENTO_3M</th>\n",
       "      <th>QTD_PARCELAMENTO_6M</th>\n",
       "      <th>QTD_PARCELAMENTO_12M</th>\n",
       "    </tr>\n",
       "  </thead>\n",
       "  <tbody>\n",
       "    <tr>\n",
       "      <th>count</th>\n",
       "      <td>72532.000000</td>\n",
       "      <td>72532.000000</td>\n",
       "      <td>72532.000000</td>\n",
       "    </tr>\n",
       "    <tr>\n",
       "      <th>mean</th>\n",
       "      <td>0.343586</td>\n",
       "      <td>0.486323</td>\n",
       "      <td>0.612792</td>\n",
       "    </tr>\n",
       "    <tr>\n",
       "      <th>std</th>\n",
       "      <td>0.564863</td>\n",
       "      <td>0.716000</td>\n",
       "      <td>0.892865</td>\n",
       "    </tr>\n",
       "    <tr>\n",
       "      <th>min</th>\n",
       "      <td>0.000000</td>\n",
       "      <td>0.000000</td>\n",
       "      <td>0.000000</td>\n",
       "    </tr>\n",
       "    <tr>\n",
       "      <th>25%</th>\n",
       "      <td>0.000000</td>\n",
       "      <td>0.000000</td>\n",
       "      <td>0.000000</td>\n",
       "    </tr>\n",
       "    <tr>\n",
       "      <th>50%</th>\n",
       "      <td>0.000000</td>\n",
       "      <td>0.000000</td>\n",
       "      <td>0.000000</td>\n",
       "    </tr>\n",
       "    <tr>\n",
       "      <th>75%</th>\n",
       "      <td>1.000000</td>\n",
       "      <td>1.000000</td>\n",
       "      <td>1.000000</td>\n",
       "    </tr>\n",
       "    <tr>\n",
       "      <th>max</th>\n",
       "      <td>3.000000</td>\n",
       "      <td>4.000000</td>\n",
       "      <td>6.000000</td>\n",
       "    </tr>\n",
       "  </tbody>\n",
       "</table>\n",
       "</div>"
      ],
      "text/plain": [
       "       QTD_PARCELAMENTO_3M  QTD_PARCELAMENTO_6M  QTD_PARCELAMENTO_12M\n",
       "count         72532.000000         72532.000000          72532.000000\n",
       "mean              0.343586             0.486323              0.612792\n",
       "std               0.564863             0.716000              0.892865\n",
       "min               0.000000             0.000000              0.000000\n",
       "25%               0.000000             0.000000              0.000000\n",
       "50%               0.000000             0.000000              0.000000\n",
       "75%               1.000000             1.000000              1.000000\n",
       "max               3.000000             4.000000              6.000000"
      ]
     },
     "execution_count": 211,
     "metadata": {},
     "output_type": "execute_result"
    }
   ],
   "source": [
    "base2_resumo[['QTD_PARCELAMENTO_3M','QTD_PARCELAMENTO_6M','QTD_PARCELAMENTO_12M']].describe()"
   ]
  },
  {
   "cell_type": "code",
   "execution_count": 203,
   "id": "bfdd4a9b",
   "metadata": {},
   "outputs": [
    {
     "data": {
      "text/html": [
       "<div>\n",
       "<style scoped>\n",
       "    .dataframe tbody tr th:only-of-type {\n",
       "        vertical-align: middle;\n",
       "    }\n",
       "\n",
       "    .dataframe tbody tr th {\n",
       "        vertical-align: top;\n",
       "    }\n",
       "\n",
       "    .dataframe thead th {\n",
       "        text-align: right;\n",
       "    }\n",
       "</style>\n",
       "<table border=\"1\" class=\"dataframe\">\n",
       "  <thead>\n",
       "    <tr style=\"text-align: right;\">\n",
       "      <th></th>\n",
       "      <th>QTD_PARCELAMENTO_3M</th>\n",
       "      <th>QTD_PARCELAMENTO_6M</th>\n",
       "      <th>QTD_PARCELAMENTO_12M</th>\n",
       "    </tr>\n",
       "  </thead>\n",
       "  <tbody>\n",
       "    <tr>\n",
       "      <th>QTD_PARCELAMENTO_3M</th>\n",
       "      <td>1.000000</td>\n",
       "      <td>0.860123</td>\n",
       "      <td>0.757683</td>\n",
       "    </tr>\n",
       "    <tr>\n",
       "      <th>QTD_PARCELAMENTO_6M</th>\n",
       "      <td>0.860123</td>\n",
       "      <td>1.000000</td>\n",
       "      <td>0.904245</td>\n",
       "    </tr>\n",
       "    <tr>\n",
       "      <th>QTD_PARCELAMENTO_12M</th>\n",
       "      <td>0.757683</td>\n",
       "      <td>0.904245</td>\n",
       "      <td>1.000000</td>\n",
       "    </tr>\n",
       "  </tbody>\n",
       "</table>\n",
       "</div>"
      ],
      "text/plain": [
       "                      QTD_PARCELAMENTO_3M  QTD_PARCELAMENTO_6M  \\\n",
       "QTD_PARCELAMENTO_3M              1.000000             0.860123   \n",
       "QTD_PARCELAMENTO_6M              0.860123             1.000000   \n",
       "QTD_PARCELAMENTO_12M             0.757683             0.904245   \n",
       "\n",
       "                      QTD_PARCELAMENTO_12M  \n",
       "QTD_PARCELAMENTO_3M               0.757683  \n",
       "QTD_PARCELAMENTO_6M               0.904245  \n",
       "QTD_PARCELAMENTO_12M              1.000000  "
      ]
     },
     "execution_count": 203,
     "metadata": {},
     "output_type": "execute_result"
    }
   ],
   "source": [
    "base2_resumo[['QTD_PARCELAMENTO_3M','QTD_PARCELAMENTO_6M','QTD_PARCELAMENTO_12M']].corr()"
   ]
  },
  {
   "cell_type": "code",
   "execution_count": 210,
   "id": "59f933d4",
   "metadata": {},
   "outputs": [
    {
     "data": {
      "image/png": "[encoded data removed]",
      "text/plain": [
       "<Figure size 1440x360 with 3 Axes>"
      ]
     },
     "metadata": {},
     "output_type": "display_data"
    }
   ],
   "source": [
    "fig, axes = plt.subplots(1, 3, figsize=(20, 5), sharey=False)\n",
    "fig.suptitle('Quantidade de parcelamentos nos últimos 3, 6 e 12 meses', fontdict={'fontsize':15})\n",
    "\n",
    "sns.countplot(x='QTD_PARCELAMENTO_3M', data = base2_resumo, ax=axes[0])\n",
    "axes[0].set_xlabel('3 meses')\n",
    "axes[0].set_ylabel('Quantidade')\n",
    "sns.countplot(x='QTD_PARCELAMENTO_6M', data = base2_resumo, ax=axes[1])\n",
    "axes[1].set_xlabel('6 meses')\n",
    "axes[1].set_ylabel('Quantidade')\n",
    "sns.countplot(x='QTD_PARCELAMENTO_12M', data = base2_resumo, ax=axes[2])\n",
    "axes[2].set_xlabel('12 meses')\n",
    "axes[2].set_ylabel('Quantidade')\n",
    "plt.show()"
   ]
  },
  {
   "cell_type": "markdown",
   "id": "332d3336",
   "metadata": {},
   "source": [
    "É possivel notar que 50% dos clientes não possuem parcelamento de faturas antes da fatura com dívida. O maior número de parcelas é 6 se observarmos o histórico dos últimos 12 meses. E também não diferem na relação com a variável resposta."
   ]
  },
  {
   "cell_type": "code",
   "execution_count": 214,
   "id": "565bd0fd",
   "metadata": {},
   "outputs": [
    {
     "data": {
      "image/png": "[encoded data removed]",
      "text/plain": [
       "<Figure size 1440x360 with 3 Axes>"
      ]
     },
     "metadata": {},
     "output_type": "display_data"
    }
   ],
   "source": [
    "fig, axes = plt.subplots(1, 3, figsize=(20, 5), sharey=False)\n",
    "\n",
    "sns.boxplot(y='QTD_PARCELAMENTO_3M', x='RESPOSTA', data = base2_resumo, ax=axes[0])\n",
    "sns.boxplot(y='QTD_PARCELAMENTO_6M', x='RESPOSTA', data = base2_resumo, ax=axes[1])\n",
    "sns.boxplot(y='QTD_PARCELAMENTO_12M', x='RESPOSTA', data = base2_resumo, ax=axes[2])\n",
    "plt.show()"
   ]
  },
  {
   "cell_type": "code",
   "execution_count": 228,
   "id": "baa309e9",
   "metadata": {},
   "outputs": [],
   "source": [
    "base_parc_0 = base2_resumo[base2_resumo.RESPOSTA == 0]\n",
    "base_parc_1 = base2_resumo[base2_resumo.RESPOSTA == 1]\n",
    "\n",
    "base_parc_0 = base_parc_0.groupby(['QTD_PARCELAMENTO_6M']).count()\n",
    "base_parc_0 = base_parc_0.add_suffix('').reset_index()\n",
    "base_parc_0 = base_parc_0[['QTD_PARCELAMENTO_6M','ID_CONTA']]\n",
    "base_parc_0.rename(columns={'ID_CONTA': 'QTD_0'}, inplace = True)\n",
    "\n",
    "base_parc_1 = base_parc_1.groupby(['QTD_PARCELAMENTO_6M']).count()\n",
    "base_parc_1 = base_parc_1.add_suffix('').reset_index()\n",
    "base_parc_1 = base_parc_1[['QTD_PARCELAMENTO_6M','ID_CONTA']]\n",
    "base_parc_1.rename(columns={'ID_CONTA': 'QTD_1'}, inplace = True)\n",
    "\n",
    "bd_parc = pd.merge(base_parc_0, base_parc_1, how='left', on='QTD_PARCELAMENTO_6M')\n",
    "bd_parc['PERCENT'] = round(bd_parc.QTD_1/(bd_parc.QTD_0+bd_parc.QTD_1)*100,2)\n",
    "bd_parc = bd_parc.fillna(0)"
   ]
  },
  {
   "cell_type": "code",
   "execution_count": 232,
   "id": "edbd93e3",
   "metadata": {},
   "outputs": [
    {
     "data": {
      "image/png": "[encoded data removed]",
      "text/plain": [
       "<Figure size 432x288 with 1 Axes>"
      ]
     },
     "metadata": {},
     "output_type": "display_data"
    }
   ],
   "source": [
    "plt.plot('QTD_PARCELAMENTO_6M','PERCENT', data = bd_parc, color = \"#439F48\")\n",
    "plt.title(\"Percentual de adesão por parcelamento nos últimos 6 meses\", fontdict={'fontsize':13})\n",
    "plt.xlabel('Qtd de parcelas')\n",
    "plt.ylabel('Percentual')\n",
    "plt.show()"
   ]
  },
  {
   "cell_type": "markdown",
   "id": "41ee0269",
   "metadata": {},
   "source": [
    "Verificando os últimos 6 meses dos clientes, nota-se um crescimento da taxa de adesão, de 2,64% para quem não tem parcelamento de fatura até 4,9% para quem tem 3 parcelas."
   ]
  },
  {
   "cell_type": "markdown",
   "id": "843aeb6c",
   "metadata": {},
   "source": [
    "## Faturas emitidas"
   ]
  },
  {
   "cell_type": "code",
   "execution_count": null,
   "id": "5229c249",
   "metadata": {},
   "outputs": [],
   "source": []
  },
  {
   "cell_type": "markdown",
   "id": "1caca4c9",
   "metadata": {},
   "source": [
    "## Ligações"
   ]
  },
  {
   "cell_type": "code",
   "execution_count": 234,
   "id": "382a4c84",
   "metadata": {},
   "outputs": [
    {
     "data": {
      "text/html": [
       "<div>\n",
       "<style scoped>\n",
       "    .dataframe tbody tr th:only-of-type {\n",
       "        vertical-align: middle;\n",
       "    }\n",
       "\n",
       "    .dataframe tbody tr th {\n",
       "        vertical-align: top;\n",
       "    }\n",
       "\n",
       "    .dataframe thead th {\n",
       "        text-align: right;\n",
       "    }\n",
       "</style>\n",
       "<table border=\"1\" class=\"dataframe\">\n",
       "  <thead>\n",
       "    <tr style=\"text-align: right;\">\n",
       "      <th></th>\n",
       "      <th>QTD_CPC_10D</th>\n",
       "      <th>QTD_CPC_1M</th>\n",
       "      <th>QTD_CPC_3M</th>\n",
       "      <th>QTD_CPC_6M</th>\n",
       "      <th>QTD_CP_10D</th>\n",
       "      <th>QTD_CP_1M</th>\n",
       "      <th>QTD_CP_3M</th>\n",
       "      <th>QTD_CP_6M</th>\n",
       "      <th>QTD_ACIONAMENTO_10D</th>\n",
       "      <th>QTD_ACIONAMENTO_1M</th>\n",
       "      <th>QTD_ACIONAMENTO_3M</th>\n",
       "      <th>QTD_ACIONAMENTO_6M</th>\n",
       "    </tr>\n",
       "  </thead>\n",
       "  <tbody>\n",
       "    <tr>\n",
       "      <th>count</th>\n",
       "      <td>72532.000000</td>\n",
       "      <td>72532.000000</td>\n",
       "      <td>72532.000000</td>\n",
       "      <td>72532.000000</td>\n",
       "      <td>72532.000000</td>\n",
       "      <td>72532.000000</td>\n",
       "      <td>72532.000000</td>\n",
       "      <td>72532.000000</td>\n",
       "      <td>72532.000000</td>\n",
       "      <td>72532.000000</td>\n",
       "      <td>72532.000000</td>\n",
       "      <td>72532.000000</td>\n",
       "    </tr>\n",
       "    <tr>\n",
       "      <th>mean</th>\n",
       "      <td>0.006452</td>\n",
       "      <td>0.032455</td>\n",
       "      <td>0.166313</td>\n",
       "      <td>0.391041</td>\n",
       "      <td>0.063282</td>\n",
       "      <td>0.226190</td>\n",
       "      <td>0.822699</td>\n",
       "      <td>1.635843</td>\n",
       "      <td>3.074698</td>\n",
       "      <td>12.334832</td>\n",
       "      <td>46.126579</td>\n",
       "      <td>97.818728</td>\n",
       "    </tr>\n",
       "    <tr>\n",
       "      <th>std</th>\n",
       "      <td>0.084589</td>\n",
       "      <td>0.191778</td>\n",
       "      <td>0.509993</td>\n",
       "      <td>0.968232</td>\n",
       "      <td>0.301003</td>\n",
       "      <td>0.641274</td>\n",
       "      <td>1.558579</td>\n",
       "      <td>2.776591</td>\n",
       "      <td>4.520159</td>\n",
       "      <td>14.342847</td>\n",
       "      <td>52.163316</td>\n",
       "      <td>97.789358</td>\n",
       "    </tr>\n",
       "    <tr>\n",
       "      <th>min</th>\n",
       "      <td>0.000000</td>\n",
       "      <td>0.000000</td>\n",
       "      <td>0.000000</td>\n",
       "      <td>0.000000</td>\n",
       "      <td>0.000000</td>\n",
       "      <td>0.000000</td>\n",
       "      <td>0.000000</td>\n",
       "      <td>0.000000</td>\n",
       "      <td>0.000000</td>\n",
       "      <td>0.000000</td>\n",
       "      <td>0.000000</td>\n",
       "      <td>0.000000</td>\n",
       "    </tr>\n",
       "    <tr>\n",
       "      <th>25%</th>\n",
       "      <td>0.000000</td>\n",
       "      <td>0.000000</td>\n",
       "      <td>0.000000</td>\n",
       "      <td>0.000000</td>\n",
       "      <td>0.000000</td>\n",
       "      <td>0.000000</td>\n",
       "      <td>0.000000</td>\n",
       "      <td>0.000000</td>\n",
       "      <td>0.000000</td>\n",
       "      <td>4.000000</td>\n",
       "      <td>17.000000</td>\n",
       "      <td>35.000000</td>\n",
       "    </tr>\n",
       "    <tr>\n",
       "      <th>50%</th>\n",
       "      <td>0.000000</td>\n",
       "      <td>0.000000</td>\n",
       "      <td>0.000000</td>\n",
       "      <td>0.000000</td>\n",
       "      <td>0.000000</td>\n",
       "      <td>0.000000</td>\n",
       "      <td>0.000000</td>\n",
       "      <td>0.000000</td>\n",
       "      <td>2.000000</td>\n",
       "      <td>8.000000</td>\n",
       "      <td>31.000000</td>\n",
       "      <td>72.000000</td>\n",
       "    </tr>\n",
       "    <tr>\n",
       "      <th>75%</th>\n",
       "      <td>0.000000</td>\n",
       "      <td>0.000000</td>\n",
       "      <td>0.000000</td>\n",
       "      <td>0.000000</td>\n",
       "      <td>0.000000</td>\n",
       "      <td>0.000000</td>\n",
       "      <td>1.000000</td>\n",
       "      <td>2.000000</td>\n",
       "      <td>4.000000</td>\n",
       "      <td>16.000000</td>\n",
       "      <td>60.000000</td>\n",
       "      <td>134.000000</td>\n",
       "    </tr>\n",
       "    <tr>\n",
       "      <th>max</th>\n",
       "      <td>5.000000</td>\n",
       "      <td>5.000000</td>\n",
       "      <td>10.000000</td>\n",
       "      <td>15.000000</td>\n",
       "      <td>7.000000</td>\n",
       "      <td>10.000000</td>\n",
       "      <td>25.000000</td>\n",
       "      <td>39.000000</td>\n",
       "      <td>140.000000</td>\n",
       "      <td>553.000000</td>\n",
       "      <td>3022.000000</td>\n",
       "      <td>4760.000000</td>\n",
       "    </tr>\n",
       "  </tbody>\n",
       "</table>\n",
       "</div>"
      ],
      "text/plain": [
       "        QTD_CPC_10D    QTD_CPC_1M    QTD_CPC_3M    QTD_CPC_6M    QTD_CP_10D  \\\n",
       "count  72532.000000  72532.000000  72532.000000  72532.000000  72532.000000   \n",
       "mean       0.006452      0.032455      0.166313      0.391041      0.063282   \n",
       "std        0.084589      0.191778      0.509993      0.968232      0.301003   \n",
       "min        0.000000      0.000000      0.000000      0.000000      0.000000   \n",
       "25%        0.000000      0.000000      0.000000      0.000000      0.000000   \n",
       "50%        0.000000      0.000000      0.000000      0.000000      0.000000   \n",
       "75%        0.000000      0.000000      0.000000      0.000000      0.000000   \n",
       "max        5.000000      5.000000     10.000000     15.000000      7.000000   \n",
       "\n",
       "          QTD_CP_1M     QTD_CP_3M     QTD_CP_6M  QTD_ACIONAMENTO_10D  \\\n",
       "count  72532.000000  72532.000000  72532.000000         72532.000000   \n",
       "mean       0.226190      0.822699      1.635843             3.074698   \n",
       "std        0.641274      1.558579      2.776591             4.520159   \n",
       "min        0.000000      0.000000      0.000000             0.000000   \n",
       "25%        0.000000      0.000000      0.000000             0.000000   \n",
       "50%        0.000000      0.000000      0.000000             2.000000   \n",
       "75%        0.000000      1.000000      2.000000             4.000000   \n",
       "max       10.000000     25.000000     39.000000           140.000000   \n",
       "\n",
       "       QTD_ACIONAMENTO_1M  QTD_ACIONAMENTO_3M  QTD_ACIONAMENTO_6M  \n",
       "count        72532.000000        72532.000000        72532.000000  \n",
       "mean            12.334832           46.126579           97.818728  \n",
       "std             14.342847           52.163316           97.789358  \n",
       "min              0.000000            0.000000            0.000000  \n",
       "25%              4.000000           17.000000           35.000000  \n",
       "50%              8.000000           31.000000           72.000000  \n",
       "75%             16.000000           60.000000          134.000000  \n",
       "max            553.000000         3022.000000         4760.000000  "
      ]
     },
     "execution_count": 234,
     "metadata": {},
     "output_type": "execute_result"
    }
   ],
   "source": [
    "base2_resumo[['QTD_CPC_10D','QTD_CPC_1M','QTD_CPC_3M','QTD_CPC_6M','QTD_CP_10D','QTD_CP_1M','QTD_CP_3M','QTD_CP_6M','QTD_ACIONAMENTO_10D','QTD_ACIONAMENTO_1M','QTD_ACIONAMENTO_3M','QTD_ACIONAMENTO_6M']].describe()"
   ]
  },
  {
   "cell_type": "markdown",
   "id": "5bbfd9af",
   "metadata": {},
   "source": [
    "Pelas descritivas acima é possível observar que a maioria dos clientes não atendem as ligações, nem mesmo sendo recado (outra pessoa atende). Até os 6 primeiros meses de cobrança, 75% não atenderam 1 ligação e quando é recado 75% atendem 2 vezes, sendo que a quantidade de ligações feitas nos primeiros 10 dias é, em média, de 3 ligações."
   ]
  },
  {
   "cell_type": "markdown",
   "id": "82d0b73b",
   "metadata": {},
   "source": [
    "Vamos observar a adesão quando o cliente atende a ligação."
   ]
  },
  {
   "cell_type": "code",
   "execution_count": 237,
   "id": "157ef8d8",
   "metadata": {},
   "outputs": [],
   "source": [
    "CPC_6M = base2_resumo[base2_resumo.QTD_CPC_6M != 0]\n",
    "CPC_3M = base2_resumo[base2_resumo.QTD_CPC_3M != 0]\n",
    "CPC_1M = base2_resumo[base2_resumo.QTD_CPC_1M != 0]\n",
    "CPC_10D = base2_resumo[base2_resumo.QTD_CPC_10D != 0]"
   ]
  },
  {
   "cell_type": "code",
   "execution_count": 236,
   "id": "0b902970",
   "metadata": {},
   "outputs": [
    {
     "name": "stdout",
     "output_type": "stream",
     "text": [
      "Quando o cliente atende a ligação, a taxa de adesão ao acordo por período é de:\n",
      "Primeiros 10 dias:  7.8\n",
      "Primeiro mês:  5.65\n",
      "Primeiros 3 meses:  4.53\n",
      "Primeiros 6 meses:  4.59\n"
     ]
    }
   ],
   "source": [
    "print(\"Quando o cliente atende a ligação, a taxa de adesão ao acordo por período é de:\")\n",
    "print(\"Primeiros 10 dias: \", round(CPC_10D.RESPOSTA.sum()/CPC_10D.RESPOSTA.count() *100,2))\n",
    "print(\"Primeiro mês: \", round(CPC_1M.RESPOSTA.sum()/CPC_1M.RESPOSTA.count() *100,2))\n",
    "print(\"Primeiros 3 meses: \", round(CPC_3M.RESPOSTA.sum()/CPC_3M.RESPOSTA.count() *100,2))\n",
    "print(\"Primeiros 6 meses: \", round(CPC_6M.RESPOSTA.sum()/CPC_6M.RESPOSTA.count() *100,2))"
   ]
  },
  {
   "cell_type": "markdown",
   "id": "b9e4ede4",
   "metadata": {},
   "source": [
    "Podemos ver que quanto menor é o tempo entre a inadimplência e os acionamentos, maior é a chance do cliente fazer o acordo. No entanto, a frequencia de ligação nesse período é baixa, cerca de 3 ligações nos primeiros 10 dias e 12 ligações no primeiro mês. Uma ideia é aumentar o número de ligações no período inicial e reduzir ao passar de 3 meses, pois a taxa não varia de forma significativa (de 4,53 para 4,59)."
   ]
  },
  {
   "cell_type": "markdown",
   "id": "39d470d4",
   "metadata": {},
   "source": [
    "Agora vamos observar as ligações quando um terceiro atende."
   ]
  },
  {
   "cell_type": "code",
   "execution_count": 238,
   "id": "67b7010f",
   "metadata": {},
   "outputs": [],
   "source": [
    "CP_6M = base2_resumo[base2_resumo.QTD_CP_6M != 0]\n",
    "CP_3M = base2_resumo[base2_resumo.QTD_CP_3M != 0]\n",
    "CP_1M = base2_resumo[base2_resumo.QTD_CP_1M != 0]\n",
    "CP_10D = base2_resumo[base2_resumo.QTD_CP_10D != 0]"
   ]
  },
  {
   "cell_type": "code",
   "execution_count": 239,
   "id": "1beb0c55",
   "metadata": {},
   "outputs": [
    {
     "name": "stdout",
     "output_type": "stream",
     "text": [
      "Quando um terceiro atende a ligação, a taxa de adesão ao acordo por período é de:\n",
      "Primeiros 10 dias:  3.51\n",
      "Primeiro mês:  3.29\n",
      "Primeiros 3 meses:  2.98\n",
      "Primeiros 6 meses:  3.03\n"
     ]
    }
   ],
   "source": [
    "print(\"Quando um terceiro atende a ligação, a taxa de adesão ao acordo por período é de:\")\n",
    "print(\"Primeiros 10 dias: \", round(CP_10D.RESPOSTA.sum()/CP_10D.RESPOSTA.count() *100,2))\n",
    "print(\"Primeiro mês: \", round(CP_1M.RESPOSTA.sum()/CP_1M.RESPOSTA.count() *100,2))\n",
    "print(\"Primeiros 3 meses: \", round(CP_3M.RESPOSTA.sum()/CP_3M.RESPOSTA.count() *100,2))\n",
    "print(\"Primeiros 6 meses: \", round(CP_6M.RESPOSTA.sum()/CP_6M.RESPOSTA.count() *100,2))"
   ]
  },
  {
   "cell_type": "markdown",
   "id": "bed4e88a",
   "metadata": {},
   "source": [
    "Não parece haver uma diferença entre o período da ligação com a adesão, mas ainda há a taxa de 3,2% em média."
   ]
  },
  {
   "cell_type": "markdown",
   "id": "94347d0b",
   "metadata": {},
   "source": [
    "## Modelagem"
   ]
  },
  {
   "cell_type": "markdown",
   "id": "a3f2ee32",
   "metadata": {},
   "source": [
    "Como são 30 variáveis no conjunto de dados, testei selecionar algumas com alguns métodos de seleção, mas os resultados se mostraram mais baixos do que com todas as variáveis no modelo. Portanto apenas ID_CONTA e DT_ACORDO serão retirados no conjunto final."
   ]
  },
  {
   "cell_type": "code",
   "execution_count": 244,
   "id": "16dac2bc",
   "metadata": {},
   "outputs": [],
   "source": [
    "x = base2_resumo.drop(['ID_CONTA','DT_ACORDO','RESPOSTA'], axis=1)\n",
    "y = base2_resumo.RESPOSTA"
   ]
  },
  {
   "cell_type": "markdown",
   "id": "72970f95",
   "metadata": {},
   "source": [
    "Relembrando que o percentual de adesão geral é de 3% e testando a modelagem com esse percentual, foi visto que nenhum dos modelos que serão apresentados conseguiu se ajustar a essa proporção da base. Portanto será feito um ajuste na proporção da variável resposta com um método de undersampling para classes desbalanceadas."
   ]
  },
  {
   "cell_type": "markdown",
   "id": "03c2d648",
   "metadata": {},
   "source": [
    "Esse método consiste em reduzir, de forma aleatória, os eventos da classe predominante. No nosso caso essa classe é o 0 (não adesão ao acordo)."
   ]
  },
  {
   "cell_type": "code",
   "execution_count": 245,
   "id": "b12a9b08",
   "metadata": {},
   "outputs": [],
   "source": [
    "from imblearn.under_sampling import NearMiss\n",
    "# Iguala as quantidade de amostras entre as classes\n",
    "eq = NearMiss()\n",
    "\n",
    "X, y = eq.fit_resample(x,y)"
   ]
  },
  {
   "cell_type": "markdown",
   "id": "4547af1e",
   "metadata": {},
   "source": [
    "Agora podemos separar as bases em treino e teste para a classificação."
   ]
  },
  {
   "cell_type": "code",
   "execution_count": 246,
   "id": "9b283254",
   "metadata": {},
   "outputs": [],
   "source": [
    "from sklearn.model_selection import train_test_split"
   ]
  },
  {
   "cell_type": "code",
   "execution_count": 247,
   "id": "f8048fd8",
   "metadata": {},
   "outputs": [],
   "source": [
    "x_treino, x_teste, y_treino, y_teste = train_test_split(X, y, random_state=0, test_size = 0.3)"
   ]
  },
  {
   "cell_type": "markdown",
   "id": "e47478c7",
   "metadata": {},
   "source": [
    "Os modelos a serem testados serão Regressão Logística, SVM, KNN, e Random Forest por serem muito utilizados em problemas de classificação."
   ]
  },
  {
   "cell_type": "code",
   "execution_count": 248,
   "id": "1f77cc6d",
   "metadata": {},
   "outputs": [],
   "source": [
    "from sklearn.linear_model import LogisticRegression\n",
    "from sklearn import svm\n",
    "from sklearn.neighbors import KNeighborsClassifier\n",
    "from sklearn.ensemble import RandomForestClassifier"
   ]
  },
  {
   "cell_type": "code",
   "execution_count": 251,
   "id": "2be69a8a",
   "metadata": {},
   "outputs": [],
   "source": [
    "from sklearn.metrics import confusion_matrix\n",
    "from sklearn.metrics import classification_report"
   ]
  },
  {
   "cell_type": "code",
   "execution_count": 252,
   "id": "78193864",
   "metadata": {},
   "outputs": [],
   "source": [
    "mod1 = LogisticRegression(max_iter=10000).fit(x_treino,y_treino)"
   ]
  },
  {
   "cell_type": "code",
   "execution_count": 281,
   "id": "420d602f",
   "metadata": {},
   "outputs": [
    {
     "data": {
      "image/png": "[encoded data removed]",
      "text/plain": [
       "<Figure size 432x288 with 2 Axes>"
      ]
     },
     "metadata": {},
     "output_type": "display_data"
    }
   ],
   "source": [
    "cm1 = confusion_matrix(y_teste, mod1.predict(x_teste))\n",
    "sns.heatmap(cm1,annot=True,fmt=\"d\", cmap = 'crest', xticklabels=['Não','Sim'], yticklabels=['Não','Sim'])\n",
    "plt.title(\"Matrix de confusão para Reg. Logística\", fontdict={'fontsize':13})\n",
    "plt.xlabel(\"Predito\")\n",
    "plt.ylabel(\"Real\")\n",
    "plt.show()"
   ]
  },
  {
   "cell_type": "code",
   "execution_count": 263,
   "id": "97c24fbc",
   "metadata": {},
   "outputs": [
    {
     "name": "stdout",
     "output_type": "stream",
     "text": [
      "              precision    recall  f1-score   support\n",
      "\n",
      "           0       0.84      0.91      0.88       658\n",
      "           1       0.90      0.82      0.86       629\n",
      "\n",
      "    accuracy                           0.87      1287\n",
      "   macro avg       0.87      0.87      0.87      1287\n",
      "weighted avg       0.87      0.87      0.87      1287\n",
      "\n"
     ]
    }
   ],
   "source": [
    "print(classification_report(y_teste, mod1.predict(x_teste)))"
   ]
  },
  {
   "cell_type": "code",
   "execution_count": 278,
   "id": "54f5eac4",
   "metadata": {},
   "outputs": [],
   "source": [
    "mod2 = svm.SVC(probability=True).fit(x_treino,y_treino)"
   ]
  },
  {
   "cell_type": "code",
   "execution_count": 279,
   "id": "e2c98e16",
   "metadata": {},
   "outputs": [
    {
     "data": {
      "image/png": "[encoded data removed]",
      "text/plain": [
       "<Figure size 432x288 with 2 Axes>"
      ]
     },
     "metadata": {},
     "output_type": "display_data"
    }
   ],
   "source": [
    "cm2= confusion_matrix(y_teste, mod2.predict(x_teste))\n",
    "sns.heatmap(cm2,annot=True,fmt=\"d\", cmap = 'crest', xticklabels=['Não','Sim'], yticklabels=['Não','Sim'])\n",
    "plt.title(\"Matrix de confusão para SVM\", fontdict={'fontsize':13})\n",
    "plt.xlabel(\"Predito\")\n",
    "plt.ylabel(\"Real\")\n",
    "plt.show()"
   ]
  },
  {
   "cell_type": "code",
   "execution_count": 266,
   "id": "9d0c8a15",
   "metadata": {},
   "outputs": [
    {
     "name": "stdout",
     "output_type": "stream",
     "text": [
      "              precision    recall  f1-score   support\n",
      "\n",
      "           0       0.81      0.94      0.87       658\n",
      "           1       0.93      0.76      0.84       629\n",
      "\n",
      "    accuracy                           0.85      1287\n",
      "   macro avg       0.87      0.85      0.85      1287\n",
      "weighted avg       0.87      0.85      0.85      1287\n",
      "\n"
     ]
    }
   ],
   "source": [
    "print(classification_report(y_teste, mod2.predict(x_teste)))"
   ]
  },
  {
   "cell_type": "code",
   "execution_count": 267,
   "id": "e7b0770c",
   "metadata": {},
   "outputs": [],
   "source": [
    "mod3 = KNeighborsClassifier().fit(x_treino, y_treino)"
   ]
  },
  {
   "cell_type": "code",
   "execution_count": 268,
   "id": "02e35043",
   "metadata": {},
   "outputs": [
    {
     "data": {
      "image/png": "[encoded data removed]",
      "text/plain": [
       "<Figure size 432x288 with 2 Axes>"
      ]
     },
     "metadata": {},
     "output_type": "display_data"
    }
   ],
   "source": [
    "cm3 = confusion_matrix(y_teste, mod3.predict(x_teste))\n",
    "sns.heatmap(cm3,annot=True,fmt=\"d\", cmap = 'crest', xticklabels=['Não','Sim'], yticklabels=['Não','Sim'])\n",
    "plt.title(\"Matrix de confusão para KNN\", fontdict={'fontsize':13})\n",
    "plt.xlabel(\"Predito\")\n",
    "plt.ylabel(\"Real\")\n",
    "plt.show()"
   ]
  },
  {
   "cell_type": "code",
   "execution_count": 269,
   "id": "2772caaa",
   "metadata": {},
   "outputs": [
    {
     "name": "stdout",
     "output_type": "stream",
     "text": [
      "              precision    recall  f1-score   support\n",
      "\n",
      "           0       0.83      0.98      0.89       658\n",
      "           1       0.97      0.78      0.87       629\n",
      "\n",
      "    accuracy                           0.88      1287\n",
      "   macro avg       0.90      0.88      0.88      1287\n",
      "weighted avg       0.90      0.88      0.88      1287\n",
      "\n"
     ]
    }
   ],
   "source": [
    "print(classification_report(y_teste, mod3.predict(x_teste)))"
   ]
  },
  {
   "cell_type": "code",
   "execution_count": 270,
   "id": "a9f3732e",
   "metadata": {},
   "outputs": [],
   "source": [
    "mod4 = RandomForestClassifier().fit(x_treino, y_treino)"
   ]
  },
  {
   "cell_type": "code",
   "execution_count": 271,
   "id": "a5f59444",
   "metadata": {},
   "outputs": [
    {
     "data": {
      "image/png": "[encoded data removed]",
      "text/plain": [
       "<Figure size 432x288 with 2 Axes>"
      ]
     },
     "metadata": {},
     "output_type": "display_data"
    }
   ],
   "source": [
    "cm4 = confusion_matrix(y_teste, mod4.predict(x_teste))\n",
    "sns.heatmap(cm4,annot=True,fmt=\"d\", cmap = 'crest', xticklabels=['Não','Sim'], yticklabels=['Não','Sim'])\n",
    "plt.title(\"Matrix de confusão para Random Forest\", fontdict={'fontsize':13})\n",
    "plt.xlabel(\"Predito\")\n",
    "plt.ylabel(\"Real\")\n",
    "plt.show()"
   ]
  },
  {
   "cell_type": "markdown",
   "id": "b41aba73",
   "metadata": {},
   "source": [
    "Para avaliar a performance do modelo foi utilizado a acurácia, precisão, recall e f1-score."
   ]
  },
  {
   "cell_type": "code",
   "execution_count": 311,
   "id": "5b41f966",
   "metadata": {},
   "outputs": [],
   "source": [
    "dic1 = classification_report(y_teste, mod1.predict(x_teste), output_dict=True)\n",
    "dic2 = classification_report(y_teste, mod2.predict(x_teste), output_dict=True)\n",
    "dic3 = classification_report(y_teste, mod3.predict(x_teste), output_dict=True)\n",
    "dic4 = classification_report(y_teste, mod4.predict(x_teste), output_dict=True)"
   ]
  },
  {
   "cell_type": "code",
   "execution_count": 310,
   "id": "9be80e82",
   "metadata": {},
   "outputs": [
    {
     "name": "stdout",
     "output_type": "stream",
     "text": [
      "                Acurácia  Precisão    Recall  F1-Score\n",
      "Reg. Logística  0.866356  0.901582  0.815580  0.856427\n",
      "SVM             0.854701  0.928295  0.761526  0.836681\n",
      "KNN             0.881896  0.968566  0.783784  0.866432\n",
      "Random Forest   0.890443  0.922145  0.847377  0.883181\n"
     ]
    }
   ],
   "source": [
    "ind = ['Reg. Logística','SVM','KNN','Random Forest']\n",
    "dic_geral = {'Acurácia':[dic1['accuracy'], dic2['accuracy'],dic3['accuracy'],dic4['accuracy']],\n",
    "             'Precisão':[dic1['1']['precision'],dic2['1']['precision'],dic3['1']['precision'],dic4['1']['precision']],\n",
    "             'Recall':[dic1['1']['recall'],dic2['1']['recall'],dic3['1']['recall'],dic4['1']['recall']],\n",
    "             'F1-Score':[dic1['1']['f1-score'],dic2['1']['f1-score'],dic3['1']['f1-score'],dic4['1']['f1-score']]\n",
    "            }\n",
    "print(pd.DataFrame(data=dic_geral, index=ind))"
   ]
  },
  {
   "cell_type": "markdown",
   "id": "7a81a146",
   "metadata": {},
   "source": [
    "Avaliando as métricas acima podemos utilizar o Random Forest para a previsão da adesão de acordos, pois é o que apresenta a maior acurácia (89%) significando que é um modelo que prevê melhor com relação aos demais e tem o maior recall, que é a habilidade de \"acertar\" o cliente que vai aderir o acordo."
   ]
  },
  {
   "cell_type": "markdown",
   "id": "98ce5331",
   "metadata": {},
   "source": [
    "Avaliando a curva ROC, também nota-se que o Random Forest possui uma área maior e tem um melhor ponto de ótimo da curva."
   ]
  },
  {
   "cell_type": "code",
   "execution_count": 312,
   "id": "c9839472",
   "metadata": {},
   "outputs": [],
   "source": [
    "# AUC\n",
    "from sklearn.metrics import roc_auc_score\n",
    "from sklearn.metrics import roc_curve, auc"
   ]
  },
  {
   "cell_type": "code",
   "execution_count": 313,
   "id": "7cf60457",
   "metadata": {},
   "outputs": [],
   "source": [
    "# Estimando as probabilidades\n",
    "log_prob = mod1.predict_proba(x_teste)\n",
    "probs = log_prob[:, 1]\n",
    "rfp, rvp, lim = roc_curve(y_teste, probs)\n",
    "\n",
    "svm_prob = mod2.predict_proba(x_teste)\n",
    "probs2 = svm_prob[:, 1]\n",
    "rfp2, rvp2, lim2 = roc_curve(y_teste, probs2)\n",
    "\n",
    "knn_prob = mod3.predict_proba(x_teste)\n",
    "probs3 = knn_prob[:, 1]\n",
    "rfp3, rvp3, lim3 = roc_curve(y_teste, probs3)\n",
    "\n",
    "rf_prob = mod4.predict_proba(x_teste)\n",
    "probs4 = rf_prob[:, 1]\n",
    "rfp4, rvp4, lim4 = roc_curve(y_teste, probs4)"
   ]
  },
  {
   "cell_type": "code",
   "execution_count": 317,
   "id": "b5257521",
   "metadata": {},
   "outputs": [
    {
     "data": {
      "image/png": "[encoded data removed]",
      "text/plain": [
       "<Figure size 432x288 with 1 Axes>"
      ]
     },
     "metadata": {},
     "output_type": "display_data"
    }
   ],
   "source": [
    "# Gráfico da curva roc\n",
    "plt.figure()\n",
    "plt.plot(rfp, rvp, marker='.', label='Logistica',color=\"red\")\n",
    "plt.plot(rfp, rvp, marker='_', label='SVM',color=\"orange\")\n",
    "plt.plot(rfp3, rvp3, marker='+', label='KNN',color=\"darkblue\")\n",
    "plt.plot(rfp4, rvp4, marker='*', label='RandomForest',color=\"green\")\n",
    "plt.plot([0, 1], [0, 1], color='black', linestyle='--')\n",
    "\n",
    "plt.xlabel('1- Especificidade')\n",
    "plt.ylabel('Sensibilidade')\n",
    "\n",
    "plt.legend()\n",
    "\n",
    "plt.show()"
   ]
  }
 ],
 "metadata": {
  "kernelspec": {
   "display_name": "Python 3 (ipykernel)",
   "language": "python",
   "name": "python3"
  },
  "language_info": {
   "codemirror_mode": {
    "name": "ipython",
    "version": 3
   },
   "file_extension": ".py",
   "mimetype": "text/x-python",
   "name": "python",
   "nbconvert_exporter": "python",
   "pygments_lexer": "ipython3",
   "version": "3.9.1"
  }
 },
 "nbformat": 4,
 "nbformat_minor": 5
}
